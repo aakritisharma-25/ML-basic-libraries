{
 "cells": [
  {
   "cell_type": "markdown",
   "id": "a55a3e8b-6b16-497a-b79e-15d0366c7e06",
   "metadata": {},
   "source": [
    "# Numpy"
   ]
  },
  {
   "cell_type": "raw",
   "id": "bccc12fb-d3bc-4146-84ef-19a8f4a7f337",
   "metadata": {},
   "source": [
    "- basic array creation\n",
    "- array generation function\n",
    "- random generation function\n",
    "- array attributes\n",
    "- array methods\n",
    "- reshaping and resizing"
   ]
  },
  {
   "cell_type": "markdown",
   "id": "714cfb2d-3d39-4d36-9bf4-b27f018e392e",
   "metadata": {},
   "source": [
    "## Importing Numpy library"
   ]
  },
  {
   "cell_type": "code",
   "execution_count": 168,
   "id": "f04f4b0a-edff-4ab8-8642-a7f33484aa16",
   "metadata": {},
   "outputs": [],
   "source": [
    "import numpy as np"
   ]
  },
  {
   "cell_type": "markdown",
   "id": "7ab76776-7b31-43f3-8a87-595a8c4287e9",
   "metadata": {},
   "source": [
    "## Basic Array creation"
   ]
  },
  {
   "cell_type": "code",
   "execution_count": 169,
   "id": "d51e7163-e921-4e9d-b544-afd41d5393bf",
   "metadata": {},
   "outputs": [
    {
     "data": {
      "text/plain": [
       "[1, 2, 3, 4]"
      ]
     },
     "execution_count": 169,
     "metadata": {},
     "output_type": "execute_result"
    }
   ],
   "source": [
    "a = [1,2,3,4]\n",
    "a"
   ]
  },
  {
   "cell_type": "code",
   "execution_count": 170,
   "id": "df69f27c-659a-4069-83e0-d8987d68ef0f",
   "metadata": {},
   "outputs": [
    {
     "data": {
      "text/plain": [
       "array([1, 2, 3, 4])"
      ]
     },
     "execution_count": 170,
     "metadata": {},
     "output_type": "execute_result"
    }
   ],
   "source": [
    "np.array(a)"
   ]
  },
  {
   "cell_type": "code",
   "execution_count": 171,
   "id": "0977971c-e842-4fd9-837f-4b6aeca63d92",
   "metadata": {},
   "outputs": [
    {
     "data": {
      "text/plain": [
       "[[1, 2, 3], [4, 5, 6], [7, 8, 9]]"
      ]
     },
     "execution_count": 171,
     "metadata": {},
     "output_type": "execute_result"
    }
   ],
   "source": [
    "l=[[1,2,3],[4,5,6],[7,8,9]]\n",
    "l"
   ]
  },
  {
   "cell_type": "code",
   "execution_count": 172,
   "id": "5e729496-e358-4824-b312-ac4bb3fb9112",
   "metadata": {},
   "outputs": [
    {
     "data": {
      "text/plain": [
       "array([[1, 2, 3],\n",
       "       [4, 5, 6],\n",
       "       [7, 8, 9]])"
      ]
     },
     "execution_count": 172,
     "metadata": {},
     "output_type": "execute_result"
    }
   ],
   "source": [
    "np.array(l)"
   ]
  },
  {
   "cell_type": "raw",
   "id": "9d72064c-c50c-4498-b444-8de79f924c1b",
   "metadata": {},
   "source": [
    "1D -> vector\n",
    "2D -> matrix\n",
    "3D -> tensors (array of matrices)"
   ]
  },
  {
   "cell_type": "markdown",
   "id": "dc73f91d-44ef-45e8-b11a-7d5484e4788f",
   "metadata": {},
   "source": [
    "## Array generation function"
   ]
  },
  {
   "cell_type": "code",
   "execution_count": 173,
   "id": "442dcd59-b61a-4975-a585-99377661d584",
   "metadata": {},
   "outputs": [
    {
     "data": {
      "text/plain": [
       "array([ 1,  2,  3,  4,  5,  6,  7,  8,  9, 10])"
      ]
     },
     "execution_count": 173,
     "metadata": {},
     "output_type": "execute_result"
    }
   ],
   "source": [
    "arr= np.arange(1,11)\n",
    "arr"
   ]
  },
  {
   "cell_type": "code",
   "execution_count": 174,
   "id": "e193cd40-ef9a-4780-9f94-57b93fcbf344",
   "metadata": {},
   "outputs": [
    {
     "data": {
      "text/plain": [
       "array([1, 3, 5, 7, 9])"
      ]
     },
     "execution_count": 174,
     "metadata": {},
     "output_type": "execute_result"
    }
   ],
   "source": [
    "arr=np.arange(1,11,2)\n",
    "arr"
   ]
  },
  {
   "cell_type": "code",
   "execution_count": 175,
   "id": "f9421a40-2860-4093-bf8b-5ca5cf00b06f",
   "metadata": {},
   "outputs": [
    {
     "data": {
      "text/plain": [
       "array([0., 0., 0., 0., 0.])"
      ]
     },
     "execution_count": 175,
     "metadata": {},
     "output_type": "execute_result"
    }
   ],
   "source": [
    "arr=np.zeros(5)\n",
    "arr"
   ]
  },
  {
   "cell_type": "code",
   "execution_count": 176,
   "id": "e38e9bed-0b80-4069-96b6-a6f778289f9e",
   "metadata": {},
   "outputs": [
    {
     "data": {
      "text/plain": [
       "array([[0., 0., 0., 0., 0.],\n",
       "       [0., 0., 0., 0., 0.],\n",
       "       [0., 0., 0., 0., 0.],\n",
       "       [0., 0., 0., 0., 0.],\n",
       "       [0., 0., 0., 0., 0.]])"
      ]
     },
     "execution_count": 176,
     "metadata": {},
     "output_type": "execute_result"
    }
   ],
   "source": [
    "arr= np.zeros((5,5))\n",
    "arr"
   ]
  },
  {
   "cell_type": "code",
   "execution_count": 177,
   "id": "6b80c94d-4151-46e3-829d-21b87d07a43d",
   "metadata": {},
   "outputs": [
    {
     "data": {
      "text/plain": [
       "array([1., 1., 1., 1., 1., 1.])"
      ]
     },
     "execution_count": 177,
     "metadata": {},
     "output_type": "execute_result"
    }
   ],
   "source": [
    "arr= np.ones(6)\n",
    "arr"
   ]
  },
  {
   "cell_type": "code",
   "execution_count": 178,
   "id": "bade641b-c80d-4b2e-a730-a02ffa525fe2",
   "metadata": {},
   "outputs": [
    {
     "data": {
      "text/plain": [
       "array([[1., 1., 1., 1., 1.],\n",
       "       [1., 1., 1., 1., 1.],\n",
       "       [1., 1., 1., 1., 1.],\n",
       "       [1., 1., 1., 1., 1.],\n",
       "       [1., 1., 1., 1., 1.]])"
      ]
     },
     "execution_count": 178,
     "metadata": {},
     "output_type": "execute_result"
    }
   ],
   "source": [
    "arr=np.ones((5,5))\n",
    "arr"
   ]
  },
  {
   "cell_type": "code",
   "execution_count": 179,
   "id": "98c7838f-c032-451f-a362-d2afd881b430",
   "metadata": {},
   "outputs": [
    {
     "data": {
      "text/plain": [
       "array([1., 3., 5.])"
      ]
     },
     "execution_count": 179,
     "metadata": {},
     "output_type": "execute_result"
    }
   ],
   "source": [
    "arr=np.linspace(1,5,3) #linear space\n",
    "arr"
   ]
  },
  {
   "cell_type": "markdown",
   "id": "a7296953-63b1-4f5e-92d2-1059b75c7259",
   "metadata": {},
   "source": [
    "## Random Generation function"
   ]
  },
  {
   "cell_type": "code",
   "execution_count": 180,
   "id": "3d7ceaf5-69c6-4c74-afaa-05ce496a598b",
   "metadata": {},
   "outputs": [
    {
     "data": {
      "text/plain": [
       "array([0.09556626, 0.44084335, 0.20715824, 0.05029251, 0.06506281,\n",
       "       0.11857468, 0.80784019, 0.02669905, 0.39542616, 0.4644683 ])"
      ]
     },
     "execution_count": 180,
     "metadata": {},
     "output_type": "execute_result"
    }
   ],
   "source": [
    "np.random.rand(10) #between 0-1 ...concept of normalization"
   ]
  },
  {
   "cell_type": "code",
   "execution_count": 181,
   "id": "823b81e3-48d6-42c1-8f74-532dcd052474",
   "metadata": {},
   "outputs": [
    {
     "data": {
      "text/plain": [
       "array([ 1.0034527 ,  0.26362668, -1.29494411,  0.51580155,  0.3840821 ,\n",
       "        0.05769443,  1.21946281,  0.90941178, -0.46868216,  0.1646581 ])"
      ]
     },
     "execution_count": 181,
     "metadata": {},
     "output_type": "execute_result"
    }
   ],
   "source": [
    "np.random.randn(10) #between -3 - 3 ...concept of standardization"
   ]
  },
  {
   "cell_type": "code",
   "execution_count": 182,
   "id": "0ff0c545-32ec-42eb-ba14-22122ed902bb",
   "metadata": {},
   "outputs": [
    {
     "data": {
      "text/plain": [
       "3"
      ]
     },
     "execution_count": 182,
     "metadata": {},
     "output_type": "execute_result"
    }
   ],
   "source": [
    "np.random.randint(6) #between 0-6"
   ]
  },
  {
   "cell_type": "code",
   "execution_count": 183,
   "id": "9fe492e1-8665-4553-bfee-bf2f01f21543",
   "metadata": {},
   "outputs": [
    {
     "data": {
      "text/plain": [
       "array([15, 17, 11, 11, 11])"
      ]
     },
     "execution_count": 183,
     "metadata": {},
     "output_type": "execute_result"
    }
   ],
   "source": [
    "np.random.randint(10,20,5) # low, high, numbers to be generated"
   ]
  },
  {
   "cell_type": "markdown",
   "id": "24c71bbb-1e57-464b-b061-14208ed9f79d",
   "metadata": {},
   "source": [
    "## Array Attributes"
   ]
  },
  {
   "cell_type": "code",
   "execution_count": 184,
   "id": "63d76fdc-a4a6-4837-be42-bb1122dc72f1",
   "metadata": {},
   "outputs": [
    {
     "data": {
      "text/plain": [
       "array([[1, 2, 3],\n",
       "       [4, 5, 6],\n",
       "       [7, 8, 9]])"
      ]
     },
     "execution_count": 184,
     "metadata": {},
     "output_type": "execute_result"
    }
   ],
   "source": [
    "arr= np.array([[1,2,3],[4,5,6],[7,8,9]])\n",
    "arr"
   ]
  },
  {
   "cell_type": "code",
   "execution_count": 185,
   "id": "b6cbb559-9808-48c3-941e-6acf19073147",
   "metadata": {},
   "outputs": [
    {
     "data": {
      "text/plain": [
       "(3, 3)"
      ]
     },
     "execution_count": 185,
     "metadata": {},
     "output_type": "execute_result"
    }
   ],
   "source": [
    "arr.shape"
   ]
  },
  {
   "cell_type": "code",
   "execution_count": 186,
   "id": "f04963c7-3bb2-49c9-8066-437d3b3c6727",
   "metadata": {},
   "outputs": [
    {
     "data": {
      "text/plain": [
       "9"
      ]
     },
     "execution_count": 186,
     "metadata": {},
     "output_type": "execute_result"
    }
   ],
   "source": [
    "arr.size"
   ]
  },
  {
   "cell_type": "code",
   "execution_count": 187,
   "id": "66cb275b-0e4c-4307-9068-1da1d27a00d5",
   "metadata": {},
   "outputs": [
    {
     "data": {
      "text/plain": [
       "dtype('int32')"
      ]
     },
     "execution_count": 187,
     "metadata": {},
     "output_type": "execute_result"
    }
   ],
   "source": [
    "arr.dtype"
   ]
  },
  {
   "cell_type": "markdown",
   "id": "fdb7724c-2426-4e11-ae0b-e730b68883c5",
   "metadata": {},
   "source": [
    "## Array methods"
   ]
  },
  {
   "cell_type": "code",
   "execution_count": 188,
   "id": "8e334829-e659-4e1c-8708-b5333accd279",
   "metadata": {},
   "outputs": [
    {
     "data": {
      "text/plain": [
       "1"
      ]
     },
     "execution_count": 188,
     "metadata": {},
     "output_type": "execute_result"
    }
   ],
   "source": [
    "arr.min()"
   ]
  },
  {
   "cell_type": "code",
   "execution_count": 189,
   "id": "b5dc2193-23f1-4175-b67c-5d47aa8b406c",
   "metadata": {},
   "outputs": [
    {
     "data": {
      "text/plain": [
       "9"
      ]
     },
     "execution_count": 189,
     "metadata": {},
     "output_type": "execute_result"
    }
   ],
   "source": [
    "arr.max()"
   ]
  },
  {
   "cell_type": "code",
   "execution_count": 190,
   "id": "3789396c-e514-4336-bc96-151ac45b5a91",
   "metadata": {},
   "outputs": [
    {
     "data": {
      "text/plain": [
       "45"
      ]
     },
     "execution_count": 190,
     "metadata": {},
     "output_type": "execute_result"
    }
   ],
   "source": [
    "arr.sum()"
   ]
  },
  {
   "cell_type": "code",
   "execution_count": 191,
   "id": "8b47fc3d-f256-45bb-a587-eea76b24f2e3",
   "metadata": {},
   "outputs": [
    {
     "data": {
      "text/plain": [
       "array([12, 15, 18])"
      ]
     },
     "execution_count": 191,
     "metadata": {},
     "output_type": "execute_result"
    }
   ],
   "source": [
    "np.sum(arr,axis=0) # 0 is vertical axis column wise"
   ]
  },
  {
   "cell_type": "code",
   "execution_count": 192,
   "id": "5b71d403-9ac3-4026-aa39-3779e00e3ea8",
   "metadata": {},
   "outputs": [
    {
     "data": {
      "text/plain": [
       "array([ 6, 15, 24])"
      ]
     },
     "execution_count": 192,
     "metadata": {},
     "output_type": "execute_result"
    }
   ],
   "source": [
    "np.sum(arr,axis=1) # 1 is horizontal axis row wise"
   ]
  },
  {
   "cell_type": "code",
   "execution_count": 193,
   "id": "e4beaeac-2b5f-441e-816a-913802925455",
   "metadata": {},
   "outputs": [
    {
     "data": {
      "text/plain": [
       "5.0"
      ]
     },
     "execution_count": 193,
     "metadata": {},
     "output_type": "execute_result"
    }
   ],
   "source": [
    "arr.mean()"
   ]
  },
  {
   "cell_type": "code",
   "execution_count": 194,
   "id": "1e68b802-fa04-4d6e-b57d-1f7fd8c0466a",
   "metadata": {},
   "outputs": [
    {
     "data": {
      "text/plain": [
       "2.581988897471611"
      ]
     },
     "execution_count": 194,
     "metadata": {},
     "output_type": "execute_result"
    }
   ],
   "source": [
    "arr.std()"
   ]
  },
  {
   "cell_type": "code",
   "execution_count": 195,
   "id": "7d1ebb49-9552-498c-a07f-4a38167b7e4e",
   "metadata": {},
   "outputs": [
    {
     "data": {
      "text/plain": [
       "8"
      ]
     },
     "execution_count": 195,
     "metadata": {},
     "output_type": "execute_result"
    }
   ],
   "source": [
    "arr.argmax() #index of max element"
   ]
  },
  {
   "cell_type": "code",
   "execution_count": 196,
   "id": "81e8f917-4f39-4878-8a75-a836cbc08326",
   "metadata": {},
   "outputs": [
    {
     "data": {
      "text/plain": [
       "0"
      ]
     },
     "execution_count": 196,
     "metadata": {},
     "output_type": "execute_result"
    }
   ],
   "source": [
    "arr.argmin() #index of min element"
   ]
  },
  {
   "cell_type": "markdown",
   "id": "a2d013bb-8121-4f9f-a568-7483b65ea518",
   "metadata": {},
   "source": [
    "## Reshaping and Resizing"
   ]
  },
  {
   "cell_type": "code",
   "execution_count": 197,
   "id": "4faacd29-110e-44b1-8553-ce5c6c68491a",
   "metadata": {},
   "outputs": [
    {
     "data": {
      "text/plain": [
       "array([ 1,  2,  3,  4,  5,  6,  7,  8,  9, 10, 11, 12, 13, 14, 15, 16, 17,\n",
       "       18, 19, 20, 21, 22, 23, 24, 25, 26, 27, 28, 29, 30])"
      ]
     },
     "execution_count": 197,
     "metadata": {},
     "output_type": "execute_result"
    }
   ],
   "source": [
    "arr=np.arange(1,31)\n",
    "arr"
   ]
  },
  {
   "cell_type": "code",
   "execution_count": 198,
   "id": "1705d523-7785-4b49-96ec-558ea5aa8bb3",
   "metadata": {},
   "outputs": [],
   "source": [
    "# from 1D to 2D\n",
    "arr=arr.reshape(6,5)"
   ]
  },
  {
   "cell_type": "code",
   "execution_count": 199,
   "id": "b3c46e99-6710-4d61-b857-61c0e317514f",
   "metadata": {},
   "outputs": [
    {
     "data": {
      "text/plain": [
       "array([[ 1,  2,  3,  4,  5],\n",
       "       [ 6,  7,  8,  9, 10],\n",
       "       [11, 12, 13, 14, 15],\n",
       "       [16, 17, 18, 19, 20],\n",
       "       [21, 22, 23, 24, 25],\n",
       "       [26, 27, 28, 29, 30]])"
      ]
     },
     "execution_count": 199,
     "metadata": {},
     "output_type": "execute_result"
    }
   ],
   "source": [
    "arr"
   ]
  },
  {
   "cell_type": "markdown",
   "id": "33f2ac29-7806-4e82-8999-3de980abef5d",
   "metadata": {},
   "source": [
    "# Array Indexing"
   ]
  },
  {
   "cell_type": "raw",
   "id": "8878f20b-bffb-4aa1-94a1-40cf664fbf97",
   "metadata": {},
   "source": [
    "- Numpy indexing and slicing of vectors\n",
    "- Numpy indexing and slicing of matrix\n",
    "- boolean indexing"
   ]
  },
  {
   "cell_type": "markdown",
   "id": "74f18823-0b7a-4cfa-b4ab-3d7bb5200748",
   "metadata": {},
   "source": [
    "## Numpy indexing and slicing of vectors"
   ]
  },
  {
   "cell_type": "code",
   "execution_count": 200,
   "id": "2be6695f-7557-409b-93be-112aa6dee604",
   "metadata": {},
   "outputs": [
    {
     "data": {
      "text/plain": [
       "array([11, 12, 13, 14, 15, 16, 17, 18, 19, 20])"
      ]
     },
     "execution_count": 200,
     "metadata": {},
     "output_type": "execute_result"
    }
   ],
   "source": [
    "arr= np.arange(11,21)\n",
    "arr"
   ]
  },
  {
   "cell_type": "code",
   "execution_count": 201,
   "id": "1fc7e6f0-b9e8-4c05-a2e5-46807831e9eb",
   "metadata": {},
   "outputs": [
    {
     "data": {
      "text/plain": [
       "17"
      ]
     },
     "execution_count": 201,
     "metadata": {},
     "output_type": "execute_result"
    }
   ],
   "source": [
    "arr[6]"
   ]
  },
  {
   "cell_type": "code",
   "execution_count": 202,
   "id": "17ab70ce-92ed-4487-8bed-c0c79550f417",
   "metadata": {},
   "outputs": [
    {
     "data": {
      "text/plain": [
       "array([14, 16, 18, 20])"
      ]
     },
     "execution_count": 202,
     "metadata": {},
     "output_type": "execute_result"
    }
   ],
   "source": [
    "arr[3::2]"
   ]
  },
  {
   "cell_type": "markdown",
   "id": "5e19f06c-643d-4fd0-92cc-d62ab44ef226",
   "metadata": {},
   "source": [
    "## Numpy indexing and slicing of matrix"
   ]
  },
  {
   "cell_type": "code",
   "execution_count": 203,
   "id": "c81a742b-d5d1-44b8-8f0e-68245a5c5f60",
   "metadata": {},
   "outputs": [
    {
     "data": {
      "text/plain": [
       "array([[ 1,  2,  3,  4,  5],\n",
       "       [ 6,  7,  8,  9, 10],\n",
       "       [11, 12, 13, 14, 15],\n",
       "       [16, 17, 18, 19, 20],\n",
       "       [21, 22, 23, 24, 25],\n",
       "       [26, 27, 28, 29, 30]])"
      ]
     },
     "execution_count": 203,
     "metadata": {},
     "output_type": "execute_result"
    }
   ],
   "source": [
    "arr=np.arange(1,31).reshape(6,5)\n",
    "arr"
   ]
  },
  {
   "cell_type": "code",
   "execution_count": 204,
   "id": "54c456ff-0800-4448-8196-f4589c7831f3",
   "metadata": {},
   "outputs": [
    {
     "data": {
      "text/plain": [
       "array([1, 2, 3, 4, 5])"
      ]
     },
     "execution_count": 204,
     "metadata": {},
     "output_type": "execute_result"
    }
   ],
   "source": [
    "arr[0]"
   ]
  },
  {
   "cell_type": "code",
   "execution_count": 205,
   "id": "4bfc1dab-43d7-4aa1-9472-1dded4c708c5",
   "metadata": {},
   "outputs": [
    {
     "data": {
      "text/plain": [
       "1"
      ]
     },
     "execution_count": 205,
     "metadata": {},
     "output_type": "execute_result"
    }
   ],
   "source": [
    "arr[0,0]"
   ]
  },
  {
   "cell_type": "code",
   "execution_count": 206,
   "id": "f2d919d7-ea54-49f2-a11e-9e034cd43d02",
   "metadata": {},
   "outputs": [
    {
     "data": {
      "text/plain": [
       "30"
      ]
     },
     "execution_count": 206,
     "metadata": {},
     "output_type": "execute_result"
    }
   ],
   "source": [
    "arr[5,4]"
   ]
  },
  {
   "cell_type": "code",
   "execution_count": 207,
   "id": "e23d059e-ff79-4311-be48-4374e2221183",
   "metadata": {},
   "outputs": [
    {
     "data": {
      "text/plain": [
       "array([[19, 20],\n",
       "       [24, 25],\n",
       "       [29, 30]])"
      ]
     },
     "execution_count": 207,
     "metadata": {},
     "output_type": "execute_result"
    }
   ],
   "source": [
    "arr[3:6,3:5]"
   ]
  },
  {
   "cell_type": "markdown",
   "id": "cb97983e-88fe-429b-8fc9-7fccdaa4434f",
   "metadata": {},
   "source": [
    "## boolean indexing"
   ]
  },
  {
   "cell_type": "code",
   "execution_count": 208,
   "id": "a86f1929-1b05-4c7f-a0a6-84edc5ce6b72",
   "metadata": {},
   "outputs": [
    {
     "data": {
      "text/plain": [
       "array([11, 12, 13, 14, 15, 16, 17, 18, 19, 20])"
      ]
     },
     "execution_count": 208,
     "metadata": {},
     "output_type": "execute_result"
    }
   ],
   "source": [
    "arr=np.arange(11,21)\n",
    "arr"
   ]
  },
  {
   "cell_type": "code",
   "execution_count": 209,
   "id": "4dd25389-fcf0-4f05-a352-90c52f39fada",
   "metadata": {},
   "outputs": [],
   "source": [
    "bool_index=arr%2==0"
   ]
  },
  {
   "cell_type": "code",
   "execution_count": 210,
   "id": "a5626ae8-9ead-4c42-9a55-9fbc27159a8c",
   "metadata": {},
   "outputs": [
    {
     "data": {
      "text/plain": [
       "array([False,  True, False,  True, False,  True, False,  True, False,\n",
       "        True])"
      ]
     },
     "execution_count": 210,
     "metadata": {},
     "output_type": "execute_result"
    }
   ],
   "source": [
    "bool_index"
   ]
  },
  {
   "cell_type": "code",
   "execution_count": 211,
   "id": "a45746c0-45b0-48bb-9dc8-fc43ce73455e",
   "metadata": {},
   "outputs": [
    {
     "data": {
      "text/plain": [
       "array([12, 14, 16, 18, 20])"
      ]
     },
     "execution_count": 211,
     "metadata": {},
     "output_type": "execute_result"
    }
   ],
   "source": [
    "arr= arr[bool_index]\n",
    "arr"
   ]
  },
  {
   "cell_type": "markdown",
   "id": "a2c27cdb-cced-4c31-8a65-4b62bf14de58",
   "metadata": {},
   "source": [
    "# Array operations"
   ]
  },
  {
   "cell_type": "raw",
   "id": "3b1e8ef7-9fde-4b46-aa60-0594578b4a56",
   "metadata": {},
   "source": [
    "- Arithematic operations\n",
    "- Broadcasting\n",
    "- Deep and Shallow copy \n",
    "- Matrix operations\n",
    "- Advance Array Manipulation\n",
    "- Stacking Array\n",
    "- Splitting Array"
   ]
  },
  {
   "cell_type": "markdown",
   "id": "ce839dc6-ed51-4b7e-b3b2-befddc18fbcd",
   "metadata": {},
   "source": [
    "## Arithematic operations"
   ]
  },
  {
   "cell_type": "code",
   "execution_count": 212,
   "id": "97e4819a-e7d6-4cbb-8dec-f3c259293e1b",
   "metadata": {},
   "outputs": [],
   "source": [
    "a1=np.array([1,2,3,4,5])\n",
    "a2=np.array([6,7,8,9,10])"
   ]
  },
  {
   "cell_type": "code",
   "execution_count": 213,
   "id": "3a97c9be-5101-4e84-b917-0bcf9df25e7e",
   "metadata": {},
   "outputs": [
    {
     "data": {
      "text/plain": [
       "array([ 7,  9, 11, 13, 15])"
      ]
     },
     "execution_count": 213,
     "metadata": {},
     "output_type": "execute_result"
    }
   ],
   "source": [
    "a1+a2"
   ]
  },
  {
   "cell_type": "code",
   "execution_count": 214,
   "id": "9ed279ef-4b9f-47f7-9be6-1a45eeeadbe7",
   "metadata": {},
   "outputs": [
    {
     "data": {
      "text/plain": [
       "array([-5, -5, -5, -5, -5])"
      ]
     },
     "execution_count": 214,
     "metadata": {},
     "output_type": "execute_result"
    }
   ],
   "source": [
    "a1-a2"
   ]
  },
  {
   "cell_type": "code",
   "execution_count": 215,
   "id": "7ecb5661-1db5-4eb7-a218-18b30f5553cc",
   "metadata": {},
   "outputs": [
    {
     "data": {
      "text/plain": [
       "array([ 6, 14, 24, 36, 50])"
      ]
     },
     "execution_count": 215,
     "metadata": {},
     "output_type": "execute_result"
    }
   ],
   "source": [
    "a1 * a2"
   ]
  },
  {
   "cell_type": "code",
   "execution_count": 216,
   "id": "ff21cce3-39ed-4b47-b0a3-53114e014fe0",
   "metadata": {},
   "outputs": [
    {
     "data": {
      "text/plain": [
       "array([0.16666667, 0.28571429, 0.375     , 0.44444444, 0.5       ])"
      ]
     },
     "execution_count": 216,
     "metadata": {},
     "output_type": "execute_result"
    }
   ],
   "source": [
    "a1 /a2"
   ]
  },
  {
   "cell_type": "code",
   "execution_count": 217,
   "id": "2f77bdaa-7687-4026-b8e0-b4957bcdb023",
   "metadata": {},
   "outputs": [
    {
     "data": {
      "text/plain": [
       "array([0, 0, 0, 0, 0])"
      ]
     },
     "execution_count": 217,
     "metadata": {},
     "output_type": "execute_result"
    }
   ],
   "source": [
    "a1 // a2"
   ]
  },
  {
   "cell_type": "code",
   "execution_count": 218,
   "id": "14ab1e4f-5f70-4189-9739-b0e8f4ca6d2e",
   "metadata": {},
   "outputs": [
    {
     "data": {
      "text/plain": [
       "array([      1,     128,    6561,  262144, 9765625])"
      ]
     },
     "execution_count": 218,
     "metadata": {},
     "output_type": "execute_result"
    }
   ],
   "source": [
    "a1 ** a2"
   ]
  },
  {
   "cell_type": "markdown",
   "id": "15fd7f72-c896-4c83-a3cb-3027d11312b6",
   "metadata": {},
   "source": [
    "## Broadcasting"
   ]
  },
  {
   "cell_type": "code",
   "execution_count": 219,
   "id": "aaee5b7f-ec6d-4218-b984-4437d473e8fb",
   "metadata": {},
   "outputs": [],
   "source": [
    "l=[10,20,30,40]\n",
    "arr=np.array(l)"
   ]
  },
  {
   "cell_type": "code",
   "execution_count": 220,
   "id": "dbe88e23-0fd3-41c2-a881-bbca37fa8a2c",
   "metadata": {},
   "outputs": [
    {
     "data": {
      "text/plain": [
       "array([20, 30, 40, 50])"
      ]
     },
     "execution_count": 220,
     "metadata": {},
     "output_type": "execute_result"
    }
   ],
   "source": [
    "arr+10 # broadcasting is like adding single element to all the elements\n",
    "\n",
    "#Broadcasting is the method used by NumPy to apply operations element-wise on arrays of\n",
    "#different shapes by automatically expanding their shapes to make them compatible."
   ]
  },
  {
   "cell_type": "markdown",
   "id": "38ab49ef-954a-4c3e-bbec-871c171d44d7",
   "metadata": {},
   "source": [
    "## Deep and Shallow copy"
   ]
  },
  {
   "cell_type": "code",
   "execution_count": 221,
   "id": "06a82b4c-68f8-498c-8083-c6e73b825ee2",
   "metadata": {},
   "outputs": [
    {
     "data": {
      "text/plain": [
       "array([ 1,  2,  3,  4,  5,  6,  7,  8,  9, 10, 11, 12, 13, 14, 15, 16, 17,\n",
       "       18, 19, 20])"
      ]
     },
     "execution_count": 221,
     "metadata": {},
     "output_type": "execute_result"
    }
   ],
   "source": [
    "a=np.arange(1,21)\n",
    "a"
   ]
  },
  {
   "cell_type": "code",
   "execution_count": 222,
   "id": "7f3a250b-b09c-4784-8b0b-f1a7919c4ca7",
   "metadata": {},
   "outputs": [
    {
     "data": {
      "text/plain": [
       "array([10, 20, 30, 40, 50])"
      ]
     },
     "execution_count": 222,
     "metadata": {},
     "output_type": "execute_result"
    }
   ],
   "source": [
    "slice=a[:5]\n",
    "slice=slice*10\n",
    "slice\n",
    "\n",
    "#shallow copy"
   ]
  },
  {
   "cell_type": "code",
   "execution_count": 223,
   "id": "fa9ae65f-3536-4abc-9696-3f82eee16872",
   "metadata": {},
   "outputs": [
    {
     "data": {
      "text/plain": [
       "array([50, 60])"
      ]
     },
     "execution_count": 223,
     "metadata": {},
     "output_type": "execute_result"
    }
   ],
   "source": [
    "a[4:6]*10"
   ]
  },
  {
   "cell_type": "code",
   "execution_count": 224,
   "id": "ce760d22-18cf-4e69-90a3-5500ca1e7bd5",
   "metadata": {},
   "outputs": [
    {
     "data": {
      "text/plain": [
       "array([ 1,  2,  3,  4,  5,  6,  7,  8,  9, 10, 11, 12, 13, 14, 15, 16, 17,\n",
       "       18, 19, 20])"
      ]
     },
     "execution_count": 224,
     "metadata": {},
     "output_type": "execute_result"
    }
   ],
   "source": [
    "a"
   ]
  },
  {
   "cell_type": "code",
   "execution_count": 225,
   "id": "25c3189e-3522-4bae-bb6a-b9f0fad470ad",
   "metadata": {},
   "outputs": [],
   "source": [
    "b=a #deep copy"
   ]
  },
  {
   "cell_type": "code",
   "execution_count": 226,
   "id": "806042bf-8ef7-4372-9361-01dd721d10e7",
   "metadata": {},
   "outputs": [],
   "source": [
    "b[0]=99"
   ]
  },
  {
   "cell_type": "code",
   "execution_count": 227,
   "id": "d7ab397c-36d1-4581-801c-3a881435b2d3",
   "metadata": {},
   "outputs": [
    {
     "data": {
      "text/plain": [
       "array([99,  2,  3,  4,  5,  6,  7,  8,  9, 10, 11, 12, 13, 14, 15, 16, 17,\n",
       "       18, 19, 20])"
      ]
     },
     "execution_count": 227,
     "metadata": {},
     "output_type": "execute_result"
    }
   ],
   "source": [
    "b"
   ]
  },
  {
   "cell_type": "code",
   "execution_count": 228,
   "id": "45e3f62b-2ea6-44dc-8e19-587656c4b421",
   "metadata": {},
   "outputs": [
    {
     "data": {
      "text/plain": [
       "array([99,  2,  3,  4,  5,  6,  7,  8,  9, 10, 11, 12, 13, 14, 15, 16, 17,\n",
       "       18, 19, 20])"
      ]
     },
     "execution_count": 228,
     "metadata": {},
     "output_type": "execute_result"
    }
   ],
   "source": [
    "a"
   ]
  },
  {
   "cell_type": "code",
   "execution_count": 229,
   "id": "5cbf5f96-37fe-4a46-8ecf-27f176b887ed",
   "metadata": {},
   "outputs": [],
   "source": [
    "c=a.copy() #shallow copy"
   ]
  },
  {
   "cell_type": "code",
   "execution_count": 230,
   "id": "5f97b9ad-6fa0-4777-82b5-47ee434b3338",
   "metadata": {},
   "outputs": [
    {
     "data": {
      "text/plain": [
       "array([10,  2,  3,  4,  5,  6,  7,  8,  9, 10, 11, 12, 13, 14, 15, 16, 17,\n",
       "       18, 19, 20])"
      ]
     },
     "execution_count": 230,
     "metadata": {},
     "output_type": "execute_result"
    }
   ],
   "source": [
    "c[0]=10\n",
    "c"
   ]
  },
  {
   "cell_type": "code",
   "execution_count": 231,
   "id": "d59fbae4-f55a-4e11-8ec0-82ac7deb63bb",
   "metadata": {},
   "outputs": [
    {
     "data": {
      "text/plain": [
       "array([99,  2,  3,  4,  5,  6,  7,  8,  9, 10, 11, 12, 13, 14, 15, 16, 17,\n",
       "       18, 19, 20])"
      ]
     },
     "execution_count": 231,
     "metadata": {},
     "output_type": "execute_result"
    }
   ],
   "source": [
    "a"
   ]
  },
  {
   "cell_type": "markdown",
   "id": "6f88a752-7a48-4760-a2f9-2b491e0b4dff",
   "metadata": {},
   "source": [
    "## Matrix operations"
   ]
  },
  {
   "cell_type": "code",
   "execution_count": 232,
   "id": "9a977577-f923-4cf1-8a9a-3ea6b7ac5132",
   "metadata": {},
   "outputs": [],
   "source": [
    "A= np.array([[1,2],[3,4]])\n",
    "B= np.array([[5,6],[7,8]])"
   ]
  },
  {
   "cell_type": "code",
   "execution_count": 233,
   "id": "47bceeb7-637c-4867-b8db-8f0b275d538d",
   "metadata": {},
   "outputs": [
    {
     "data": {
      "text/plain": [
       "array([[1, 2],\n",
       "       [3, 4]])"
      ]
     },
     "execution_count": 233,
     "metadata": {},
     "output_type": "execute_result"
    }
   ],
   "source": [
    "A"
   ]
  },
  {
   "cell_type": "code",
   "execution_count": 234,
   "id": "b271dcd4-f7cf-4a7b-90e7-6d3db4cd9e6e",
   "metadata": {},
   "outputs": [
    {
     "data": {
      "text/plain": [
       "array([[5, 6],\n",
       "       [7, 8]])"
      ]
     },
     "execution_count": 234,
     "metadata": {},
     "output_type": "execute_result"
    }
   ],
   "source": [
    "B"
   ]
  },
  {
   "cell_type": "code",
   "execution_count": 235,
   "id": "e1b0acc2-2967-468f-8d42-396e325f7a66",
   "metadata": {},
   "outputs": [
    {
     "data": {
      "text/plain": [
       "array([[19, 22],\n",
       "       [43, 50]])"
      ]
     },
     "execution_count": 235,
     "metadata": {},
     "output_type": "execute_result"
    }
   ],
   "source": [
    "A@B"
   ]
  },
  {
   "cell_type": "code",
   "execution_count": 236,
   "id": "f24b75aa-897d-4b8f-a00d-5c72f37b8e5c",
   "metadata": {},
   "outputs": [
    {
     "data": {
      "text/plain": [
       "array([[19, 22],\n",
       "       [43, 50]])"
      ]
     },
     "execution_count": 236,
     "metadata": {},
     "output_type": "execute_result"
    }
   ],
   "source": [
    "np.dot(A,B)"
   ]
  },
  {
   "cell_type": "code",
   "execution_count": 237,
   "id": "827d7d11-5bea-499a-bc0f-2dfe61040557",
   "metadata": {},
   "outputs": [
    {
     "data": {
      "text/plain": [
       "array([[1, 3],\n",
       "       [2, 4]])"
      ]
     },
     "execution_count": 237,
     "metadata": {},
     "output_type": "execute_result"
    }
   ],
   "source": [
    "A.T"
   ]
  },
  {
   "cell_type": "code",
   "execution_count": 238,
   "id": "4cf37571-dccf-418d-8d26-436f557f0611",
   "metadata": {},
   "outputs": [
    {
     "data": {
      "text/plain": [
       "array([[1, 3],\n",
       "       [2, 4]])"
      ]
     },
     "execution_count": 238,
     "metadata": {},
     "output_type": "execute_result"
    }
   ],
   "source": [
    "np.transpose(A)"
   ]
  },
  {
   "cell_type": "markdown",
   "id": "97c227cb-3f7a-4402-a127-599063f19c42",
   "metadata": {},
   "source": [
    "## Advance Array Manipulation"
   ]
  },
  {
   "cell_type": "markdown",
   "id": "7656786d-8dcf-46c8-ad6b-d5efbfc51d4d",
   "metadata": {},
   "source": [
    "### Stacking Array"
   ]
  },
  {
   "cell_type": "code",
   "execution_count": 239,
   "id": "5bb479e3-0257-48ca-9f98-2436e164ce1c",
   "metadata": {},
   "outputs": [],
   "source": [
    "a=np.array([1,2,3,4])\n",
    "b=np.array([5,6,7,8])"
   ]
  },
  {
   "cell_type": "code",
   "execution_count": 240,
   "id": "845865d2-1e27-4222-b183-197a4d52ae19",
   "metadata": {},
   "outputs": [
    {
     "data": {
      "text/plain": [
       "array([[1, 2, 3, 4],\n",
       "       [5, 6, 7, 8]])"
      ]
     },
     "execution_count": 240,
     "metadata": {},
     "output_type": "execute_result"
    }
   ],
   "source": [
    "np.vstack((a,b))"
   ]
  },
  {
   "cell_type": "code",
   "execution_count": 241,
   "id": "641e2f73-d439-4bbe-a079-3ad9c3480500",
   "metadata": {},
   "outputs": [
    {
     "data": {
      "text/plain": [
       "array([1, 2, 3, 4, 5, 6, 7, 8])"
      ]
     },
     "execution_count": 241,
     "metadata": {},
     "output_type": "execute_result"
    }
   ],
   "source": [
    "np.hstack((a,b))"
   ]
  },
  {
   "cell_type": "code",
   "execution_count": 242,
   "id": "5e14443d-4717-4ebd-aad6-15cb0f6844fb",
   "metadata": {},
   "outputs": [
    {
     "data": {
      "text/plain": [
       "array([[1, 5],\n",
       "       [2, 6],\n",
       "       [3, 7],\n",
       "       [4, 8]])"
      ]
     },
     "execution_count": 242,
     "metadata": {},
     "output_type": "execute_result"
    }
   ],
   "source": [
    "np.column_stack((a,b))"
   ]
  },
  {
   "cell_type": "markdown",
   "id": "4f950052-ef6d-4634-9158-027ea2b6a3e1",
   "metadata": {},
   "source": [
    "### splitting Array"
   ]
  },
  {
   "cell_type": "code",
   "execution_count": 243,
   "id": "b9bd9057-789b-4a0d-b31f-91e830b46968",
   "metadata": {},
   "outputs": [
    {
     "data": {
      "text/plain": [
       "array([[ 0,  1,  2,  3],\n",
       "       [ 4,  5,  6,  7],\n",
       "       [ 8,  9, 10, 11],\n",
       "       [12, 13, 14, 15]])"
      ]
     },
     "execution_count": 243,
     "metadata": {},
     "output_type": "execute_result"
    }
   ],
   "source": [
    "c=np.arange(16).reshape(4,4)\n",
    "c"
   ]
  },
  {
   "cell_type": "code",
   "execution_count": 244,
   "id": "05c9028a-ce4e-4723-847c-dce2d306b0aa",
   "metadata": {},
   "outputs": [
    {
     "data": {
      "text/plain": [
       "[array([[ 0,  1],\n",
       "        [ 4,  5],\n",
       "        [ 8,  9],\n",
       "        [12, 13]]),\n",
       " array([[ 2,  3],\n",
       "        [ 6,  7],\n",
       "        [10, 11],\n",
       "        [14, 15]])]"
      ]
     },
     "execution_count": 244,
     "metadata": {},
     "output_type": "execute_result"
    }
   ],
   "source": [
    "np.hsplit(c,2)"
   ]
  },
  {
   "cell_type": "code",
   "execution_count": 245,
   "id": "9d7f0475-5924-4100-8ad3-600b7c9f3f43",
   "metadata": {
    "scrolled": true
   },
   "outputs": [
    {
     "data": {
      "text/plain": [
       "[array([[0, 1, 2, 3],\n",
       "        [4, 5, 6, 7]]),\n",
       " array([[ 8,  9, 10, 11],\n",
       "        [12, 13, 14, 15]])]"
      ]
     },
     "execution_count": 245,
     "metadata": {},
     "output_type": "execute_result"
    }
   ],
   "source": [
    "np.vsplit(c,2)"
   ]
  },
  {
   "cell_type": "markdown",
   "id": "50d5f357-83fe-4a68-ab40-a9834b4da08f",
   "metadata": {},
   "source": [
    "# Numpy Exercies"
   ]
  },
  {
   "cell_type": "markdown",
   "id": "06012d15-f087-4e56-9919-60e398d3aabb",
   "metadata": {},
   "source": [
    "#### Valid Sudoku Checker"
   ]
  },
  {
   "cell_type": "code",
   "execution_count": 246,
   "id": "6409dd9d-2686-4d85-a9a6-8e4317150b35",
   "metadata": {},
   "outputs": [],
   "source": [
    "import numpy as np"
   ]
  },
  {
   "cell_type": "code",
   "execution_count": 247,
   "id": "f27c952e-e6d0-4596-b58c-72ee8c200fd2",
   "metadata": {},
   "outputs": [],
   "source": [
    "s = np.array([\n",
    "    [5, 3, 4, 6, 7, 8, 9, 1, 2],\n",
    "    [6, 7, 2, 1, 9, 5, 3, 4, 8],\n",
    "    [1, 9, 8, 3, 4, 2, 5, 6, 7],\n",
    "    \n",
    "    [8, 5, 9, 7, 6, 1, 4, 2, 3],\n",
    "    [4, 2, 6, 8, 5, 3, 7, 9, 1],\n",
    "    [7, 1, 3, 9, 2, 4, 8, 5, 6],\n",
    "    \n",
    "    [9, 6, 1, 5, 3, 7, 2, 8, 4],\n",
    "    [2, 8, 7, 4, 1, 9, 6, 3, 5],\n",
    "    [3, 4, 5, 2, 8, 6, 1, 7, 9]\n",
    "])"
   ]
  },
  {
   "cell_type": "code",
   "execution_count": 248,
   "id": "cbf2dd35-b879-4a97-b66b-cfa07b2b3684",
   "metadata": {},
   "outputs": [],
   "source": [
    "# sum of each row or column should be 45 respectively"
   ]
  },
  {
   "cell_type": "code",
   "execution_count": 249,
   "id": "d225f7d1-26c5-4de6-bce9-196396be11dd",
   "metadata": {},
   "outputs": [
    {
     "name": "stdout",
     "output_type": "stream",
     "text": [
      "for rows it is valid\n"
     ]
    }
   ],
   "source": [
    "b= np.sum(s,axis=1)\n",
    "for i in b:\n",
    "    if i!=45:\n",
    "        print(\"Sudoku is not valid\")\n",
    "        break\n",
    "else:\n",
    "    print(\"for rows it is valid\")"
   ]
  },
  {
   "cell_type": "code",
   "execution_count": 250,
   "id": "68c87d53-aba4-4764-ae0e-cb3a6f9e85b9",
   "metadata": {},
   "outputs": [
    {
     "name": "stdout",
     "output_type": "stream",
     "text": [
      "for columns it is valid\n"
     ]
    }
   ],
   "source": [
    "c=  np.sum(s,axis=0)\n",
    "for i in b:\n",
    "    if i!=45:\n",
    "        print(\"Sudoku is not valid\")\n",
    "        break\n",
    "else:\n",
    "    print(\"for columns it is valid\")"
   ]
  },
  {
   "cell_type": "code",
   "execution_count": 251,
   "id": "a678bfec-502f-4953-946e-d583db6789cd",
   "metadata": {},
   "outputs": [
    {
     "name": "stdout",
     "output_type": "stream",
     "text": [
      "This is a Valid Sudoku\n"
     ]
    }
   ],
   "source": [
    "valid= True\n",
    "for i in range(0,9,3):\n",
    "    for j in range(0,9,3):\n",
    "        n=s[i:i+3,j:j+3]\n",
    "        if n.sum()!=45:\n",
    "            valid=False\n",
    "\n",
    "if valid:\n",
    "    print(\"This is a Valid Sudoku\")\n",
    "else:\n",
    "    print(\"invalid Sudoku\")\n",
    "        "
   ]
  },
  {
   "cell_type": "markdown",
   "id": "988fa0a5-6582-4fd6-b4d0-048f8bdc4371",
   "metadata": {},
   "source": [
    "## Student data"
   ]
  },
  {
   "cell_type": "code",
   "execution_count": 252,
   "id": "967d7086-90da-4980-80e9-9b526e95aff4",
   "metadata": {},
   "outputs": [],
   "source": [
    "import numpy as np\n",
    "\n",
    "# Columns: [Age, Math Marks, Science Marks]\n",
    "data = np.array([\n",
    "    [18, 85, 78],   # Student 1\n",
    "    [19, 92, 88],   # Student 2\n",
    "    [17, 76, 95],   # Student 3\n",
    "    [18, 65, 70],   # Student 4\n",
    "    [20, 90, 85]    # Student 5\n",
    "])"
   ]
  },
  {
   "cell_type": "code",
   "execution_count": 253,
   "id": "f6449707-293b-43be-a89f-f17ecb2fe23a",
   "metadata": {},
   "outputs": [
    {
     "data": {
      "text/plain": [
       "(5, 3)"
      ]
     },
     "execution_count": 253,
     "metadata": {},
     "output_type": "execute_result"
    }
   ],
   "source": [
    "#Get the shape of the matrix.\n",
    "data.shape"
   ]
  },
  {
   "cell_type": "code",
   "execution_count": 254,
   "id": "59aef6fd-8042-40d8-8e0f-b4e79e64d964",
   "metadata": {},
   "outputs": [
    {
     "data": {
      "text/plain": [
       "18.4"
      ]
     },
     "execution_count": 254,
     "metadata": {},
     "output_type": "execute_result"
    }
   ],
   "source": [
    "#Find the average age of students\n",
    "np.mean(data[:,0])"
   ]
  },
  {
   "cell_type": "code",
   "execution_count": 255,
   "id": "d58c56b6-3445-448d-af78-97806fcabe8a",
   "metadata": {},
   "outputs": [
    {
     "data": {
      "text/plain": [
       "array([85, 92, 76, 65, 90])"
      ]
     },
     "execution_count": 255,
     "metadata": {},
     "output_type": "execute_result"
    }
   ],
   "source": [
    "#Extract Math marks of all students.\n",
    "data[:,1]"
   ]
  },
  {
   "cell_type": "code",
   "execution_count": 256,
   "id": "a382a567-e541-4572-9381-b04a0911e303",
   "metadata": {},
   "outputs": [
    {
     "data": {
      "text/plain": [
       "95"
      ]
     },
     "execution_count": 256,
     "metadata": {},
     "output_type": "execute_result"
    }
   ],
   "source": [
    "#Find the highest Science mark.\n",
    "np.max(data[:,2])"
   ]
  },
  {
   "cell_type": "code",
   "execution_count": 257,
   "id": "9169dca0-d8f0-49c3-93e5-6658c44f6ec5",
   "metadata": {},
   "outputs": [
    {
     "data": {
      "text/plain": [
       "array([[19, 92, 88]])"
      ]
     },
     "execution_count": 257,
     "metadata": {},
     "output_type": "execute_result"
    }
   ],
   "source": [
    "#Get details of the student who scored more than 90 in Math.\n",
    "data[data[:,1]>90]"
   ]
  },
  {
   "cell_type": "code",
   "execution_count": 258,
   "id": "bf807316-5175-4919-8043-ebd441a50c9a",
   "metadata": {},
   "outputs": [
    {
     "data": {
      "text/plain": [
       "array([[18, 90, 78],\n",
       "       [19, 97, 88],\n",
       "       [17, 81, 95],\n",
       "       [18, 70, 70],\n",
       "       [20, 95, 85]])"
      ]
     },
     "execution_count": 258,
     "metadata": {},
     "output_type": "execute_result"
    }
   ],
   "source": [
    "#Increase Math marks of all students by 5.\n",
    "data[:,1]+=5\n",
    "data"
   ]
  },
  {
   "cell_type": "code",
   "execution_count": 259,
   "id": "9fd7c6ae-2077-4354-b580-edc7baef0443",
   "metadata": {},
   "outputs": [
    {
     "data": {
      "text/plain": [
       "3"
      ]
     },
     "execution_count": 259,
     "metadata": {},
     "output_type": "execute_result"
    }
   ],
   "source": [
    "#Find how many students are younger than 19.\n",
    "len(data[data[:,0]<19])"
   ]
  },
  {
   "cell_type": "code",
   "execution_count": 260,
   "id": "20e1ef94-eb34-4af7-83b6-affe2694494a",
   "metadata": {},
   "outputs": [
    {
     "data": {
      "text/plain": [
       "array([86.6, 83.2])"
      ]
     },
     "execution_count": 260,
     "metadata": {},
     "output_type": "execute_result"
    }
   ],
   "source": [
    "#Calculate the average marks in each subject (column-wise mean).\n",
    "np.mean(data[:,1:],axis=0)"
   ]
  },
  {
   "cell_type": "code",
   "execution_count": 261,
   "id": "85aec08d-d137-46a9-961c-205db82a08ff",
   "metadata": {},
   "outputs": [
    {
     "data": {
      "text/plain": [
       "array([[19, 97, 88],\n",
       "       [17, 81, 95],\n",
       "       [20, 95, 85]])"
      ]
     },
     "execution_count": 261,
     "metadata": {},
     "output_type": "execute_result"
    }
   ],
   "source": [
    "#Get data of students who scored at least 80 in both subjects.\n",
    "data[(data[:,1]>=80) & (data[:,2]>=80)]"
   ]
  },
  {
   "cell_type": "code",
   "execution_count": 262,
   "id": "74548e56-eccd-4c9e-9ae3-895c6f1b1ce7",
   "metadata": {},
   "outputs": [
    {
     "data": {
      "text/plain": [
       "array([[18, 90, 78],\n",
       "       [19, 97, 88],\n",
       "       [17, 81, 95],\n",
       "       [18, 70,  0],\n",
       "       [20, 95, 85]])"
      ]
     },
     "execution_count": 262,
     "metadata": {},
     "output_type": "execute_result"
    }
   ],
   "source": [
    "#Replace all Science marks < 75 with 0.\n",
    "data[:,2][data[:,2]<75]=0\n",
    "data"
   ]
  }
 ],
 "metadata": {
  "kernelspec": {
   "display_name": "Python 3 (ipykernel)",
   "language": "python",
   "name": "python3"
  },
  "language_info": {
   "codemirror_mode": {
    "name": "ipython",
    "version": 3
   },
   "file_extension": ".py",
   "mimetype": "text/x-python",
   "name": "python",
   "nbconvert_exporter": "python",
   "pygments_lexer": "ipython3",
   "version": "3.12.7"
  }
 },
 "nbformat": 4,
 "nbformat_minor": 5
}
